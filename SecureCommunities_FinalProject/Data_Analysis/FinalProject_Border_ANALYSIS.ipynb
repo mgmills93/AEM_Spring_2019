{
  "nbformat": 4,
  "nbformat_minor": 0,
  "metadata": {
    "colab": {
      "name": "FinalProject_Border_WORKINGANALYSIS.ipynb",
      "version": "0.3.2",
      "provenance": [],
      "collapsed_sections": [],
      "include_colab_link": true
    },
    "kernelspec": {
      "name": "python3",
      "display_name": "Python 3"
    }
  },
  "cells": [
    {
      "cell_type": "markdown",
      "metadata": {
        "id": "view-in-github",
        "colab_type": "text"
      },
      "source": [
        "<a href=\"https://colab.research.google.com/github/mgmills93/AEM_Spring_2019/blob/master/SecureCommunities_FinalProject/Data_Analysis/FinalProject_Border_ANALYSIS.ipynb\" target=\"_parent\"><img src=\"https://colab.research.google.com/assets/colab-badge.svg\" alt=\"Open In Colab\"/></a>"
      ]
    },
    {
      "metadata": {
        "id": "rKRsRNIxFNWD",
        "colab_type": "text"
      },
      "cell_type": "markdown",
      "source": [
        "###Question 3: Do border states deport more individuals through SC than interior states?\n",
        "---\n",
        "To answer this question, I will first look at the mean arrests of border states and interior states to get an idea of how different the numbers appear. \n",
        "\n",
        "Then, I will group border states and interior states into border_yes and border_no respectively, and run a t-test to determine whether the mean number of arrests for both groups is significantly different."
      ]
    },
    {
      "metadata": {
        "id": "DvxQaLbx-9Dq",
        "colab_type": "code",
        "colab": {
          "base_uri": "https://localhost:8080/",
          "height": 142
        },
        "outputId": "c891b086-e1cf-4617-89e5-575c14777b47"
      },
      "cell_type": "code",
      "source": [
        "import pandas as pd\n",
        "import numpy as np\n",
        "import scipy\n",
        "from scipy import stats\n",
        "\n",
        "border_sums = pd.read_csv('https://raw.githubusercontent.com/mgmills93/AEM_Spring_2019/master/SecureCommunities_FinalProject/Datasets/border_states.csv')\n",
        "clean_border = border_sums.drop(columns=['Unnamed: 0'])\n",
        "clean_border.groupby('Border').mean()\n",
        "\n",
        "\n"
      ],
      "execution_count": 22,
      "outputs": [
        {
          "output_type": "execute_result",
          "data": {
            "text/html": [
              "<div>\n",
              "<style scoped>\n",
              "    .dataframe tbody tr th:only-of-type {\n",
              "        vertical-align: middle;\n",
              "    }\n",
              "\n",
              "    .dataframe tbody tr th {\n",
              "        vertical-align: top;\n",
              "    }\n",
              "\n",
              "    .dataframe thead th {\n",
              "        text-align: right;\n",
              "    }\n",
              "</style>\n",
              "<table border=\"1\" class=\"dataframe\">\n",
              "  <thead>\n",
              "    <tr style=\"text-align: right;\">\n",
              "      <th></th>\n",
              "      <th>Arrest_Number</th>\n",
              "    </tr>\n",
              "    <tr>\n",
              "      <th>Border</th>\n",
              "      <th></th>\n",
              "    </tr>\n",
              "  </thead>\n",
              "  <tbody>\n",
              "    <tr>\n",
              "      <th>N</th>\n",
              "      <td>1178.1</td>\n",
              "    </tr>\n",
              "    <tr>\n",
              "      <th>Y</th>\n",
              "      <td>6831.8</td>\n",
              "    </tr>\n",
              "  </tbody>\n",
              "</table>\n",
              "</div>"
            ],
            "text/plain": [
              "        Arrest_Number\n",
              "Border               \n",
              "N              1178.1\n",
              "Y              6831.8"
            ]
          },
          "metadata": {
            "tags": []
          },
          "execution_count": 22
        }
      ]
    },
    {
      "metadata": {
        "id": "Kos8HziMFzmh",
        "colab_type": "code",
        "colab": {
          "base_uri": "https://localhost:8080/",
          "height": 34
        },
        "outputId": "c35f4cf1-90af-4b13-c2ae-6f4c09911e32"
      },
      "cell_type": "code",
      "source": [
        "border_yes = clean_border.loc[clean_border['Border'] == 'Y', 'Arrest_Number']\n",
        "border_no = clean_border.loc[clean_border['Border'] == 'N', 'Arrest_Number']\n",
        "#print(border_yes)\n",
        "#print(border_no)\n",
        "\n",
        "twosample_results = scipy.stats.ttest_ind(border_yes, border_no)\n",
        "\n",
        "print(twosample_results)"
      ],
      "execution_count": 23,
      "outputs": [
        {
          "output_type": "stream",
          "text": [
            "Ttest_indResult(statistic=2.44228771872102, pvalue=0.017962945918700873)\n"
          ],
          "name": "stdout"
        }
      ]
    },
    {
      "metadata": {
        "id": "4wDJsFCMF3Yu",
        "colab_type": "text"
      },
      "cell_type": "markdown",
      "source": [
        "###Analysis\n",
        "---\n",
        "The mean number of arrests for border states was 5653.7 greater than for interior states, which is what I would expect to see (ICE presence is likely much greater in states that share a border with a foreign country versus those that don't).\n",
        "\n",
        "The t-statistic from my t-test was 2.44, which suggests a significant difference in the mean arrests beteween border states and interior states."
      ]
    }
  ]
}