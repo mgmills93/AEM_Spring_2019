{
  "nbformat": 4,
  "nbformat_minor": 0,
  "metadata": {
    "colab": {
      "name": "FinalProject_Nationality_ANALYSIS2.ipynb",
      "version": "0.3.2",
      "provenance": [],
      "collapsed_sections": [],
      "include_colab_link": true
    },
    "kernelspec": {
      "name": "python3",
      "display_name": "Python 3"
    }
  },
  "cells": [
    {
      "cell_type": "markdown",
      "metadata": {
        "id": "view-in-github",
        "colab_type": "text"
      },
      "source": [
        "<a href=\"https://colab.research.google.com/github/mgmills93/AEM_Spring_2019/blob/master/SecureCommunities_FinalProject/Data_Analysis/FinalProject_Nationality_ANALYSIS2.ipynb\" target=\"_parent\"><img src=\"https://colab.research.google.com/assets/colab-badge.svg\" alt=\"Open In Colab\"/></a>"
      ]
    },
    {
      "cell_type": "code",
      "metadata": {
        "id": "x8ljo7vx9peT",
        "colab_type": "code",
        "outputId": "0418880b-8049-4dc5-9761-dc1213ddc3ed",
        "colab": {
          "base_uri": "https://localhost:8080/",
          "height": 527
        }
      },
      "source": [
        "import pandas as pd\n",
        "import numpy as np\n",
        "sc_arrests = pd.read_excel('https://raw.githubusercontent.com/mgmills93/AEM_Spring_2019/master/enforcement/Secure_Communities_2017_Deportations.xlsx', header=4)\n",
        "list(sc_arrests)\n"
      ],
      "execution_count": 1,
      "outputs": [
        {
          "output_type": "execute_result",
          "data": {
            "text/plain": [
              "['State',\n",
              " 'County',\n",
              " 'Departed Date',\n",
              " 'Port Of Departure',\n",
              " 'Departed To Country',\n",
              " 'Case Status',\n",
              " 'Case Category',\n",
              " 'Processing Disposition Code',\n",
              " 'Final Order Date',\n",
              " 'Charge Code',\n",
              " 'Charge Section',\n",
              " 'Arrest Date',\n",
              " 'Gender',\n",
              " 'Birth Country',\n",
              " 'Citizenship Country',\n",
              " 'Birth Date',\n",
              " 'Entry Status',\n",
              " 'Entry Date',\n",
              " 'Most Serious Criminal Conviction',\n",
              " 'Most Serious Criminal Conviction Code',\n",
              " 'Conviction Dt',\n",
              " 'Sentence Days Qty',\n",
              " 'Sentence Months Qty',\n",
              " 'Sentence Years Qty',\n",
              " 'Removal Case COL',\n",
              " 'Aggravated Felon Type',\n",
              " 'Book In Date',\n",
              " 'Book Out Date',\n",
              " 'Release Reason',\n",
              " 'Case ID']"
            ]
          },
          "metadata": {
            "tags": []
          },
          "execution_count": 1
        }
      ]
    },
    {
      "cell_type": "code",
      "metadata": {
        "id": "NGeqLIxJBQRV",
        "colab_type": "code",
        "outputId": "e53fd17e-b5d4-4ba0-abe6-0c06ffe6751a",
        "colab": {
          "base_uri": "https://localhost:8080/",
          "height": 408
        }
      },
      "source": [
        "top_countries = ['MEXICO', 'HONDURAS', 'GUATEMALA', 'EL SALVADOR', 'JAMAICA']\n",
        "sc_arrests = sc_arrests.dropna(subset =['Most Serious Criminal Conviction'])\n",
        "sc_countries = sc_arrests.loc[sc_arrests['Citizenship Country'].isin(top_countries)]\n",
        "sc_countries = sc_countries.loc[:, ['Departed Date', 'Citizenship Country', 'Most Serious Criminal Conviction']]\n",
        "print(sc_countries.sample(10))"
      ],
      "execution_count": 2,
      "outputs": [
        {
          "output_type": "stream",
          "text": [
            "       Departed Date Citizenship Country  \\\n",
            "126237    2014-11-04              MEXICO   \n",
            "10415     2015-09-09           GUATEMALA   \n",
            "8116      2017-01-12              MEXICO   \n",
            "79360     2015-09-28              MEXICO   \n",
            "75017     2015-07-25              MEXICO   \n",
            "58711     2015-01-31              MEXICO   \n",
            "70829     2016-02-26              MEXICO   \n",
            "113801    2016-08-25              MEXICO   \n",
            "71677     2015-11-16              MEXICO   \n",
            "48098     2016-01-29            HONDURAS   \n",
            "\n",
            "                         Most Serious Criminal Conviction  \n",
            "126237                                              Fraud  \n",
            "10415                                     Traffic Offense  \n",
            "8116                                     Smuggling Aliens  \n",
            "79360                                 Public Order Crimes  \n",
            "75017   Illegal Entry (INA SEC.101(a)(43)(O), 8USC1325...  \n",
            "58711                                    Drug Trafficking  \n",
            "70829                                 Marijuana - Smuggle  \n",
            "113801  Illegal Entry (INA SEC.101(a)(43)(O), 8USC1325...  \n",
            "71677                                         Sex Assault  \n",
            "48098                                             Assault  \n"
          ],
          "name": "stdout"
        }
      ]
    },
    {
      "cell_type": "markdown",
      "metadata": {
        "id": "rszmiNeDJsNG",
        "colab_type": "text"
      },
      "source": [
        "###Mexico\n",
        "Migration-related Deportations: 15671  \n",
        "Other Deportations: 92586"
      ]
    },
    {
      "cell_type": "code",
      "metadata": {
        "id": "Eom1SlQuEf9F",
        "colab_type": "code",
        "outputId": "bcad5341-cbe9-4c14-93e7-384fb097079b",
        "colab": {
          "base_uri": "https://localhost:8080/",
          "height": 85
        }
      },
      "source": [
        "migration_related = ['Illegal Re-Entry (INA SEC.101(a)(43)(O), 8USC1326 only)', 'Illegal Entry (INA SEC.101(a)(43)(O), 8USC1325 only)']\n",
        "#sc_countries[(sc_countries['Citizenship Country'] == 'MEXICO') & sc_countries['Most Serious Criminal Conviction'].isin(migration_related)].count()\n",
        "sc_countries[(sc_countries['Citizenship Country'] == 'MEXICO') & ~sc_countries['Most Serious Criminal Conviction'].isin(migration_related)].count()\n"
      ],
      "execution_count": 3,
      "outputs": [
        {
          "output_type": "execute_result",
          "data": {
            "text/plain": [
              "Departed Date                       92586\n",
              "Citizenship Country                 92586\n",
              "Most Serious Criminal Conviction    92586\n",
              "dtype: int64"
            ]
          },
          "metadata": {
            "tags": []
          },
          "execution_count": 3
        }
      ]
    },
    {
      "cell_type": "markdown",
      "metadata": {
        "id": "95ERKtGJJvav",
        "colab_type": "text"
      },
      "source": [
        "###Guatemala\n",
        "Migration-related Deportations: 1119  \n",
        "Other Deportations: 6492"
      ]
    },
    {
      "cell_type": "code",
      "metadata": {
        "id": "iGvd46g1Jja4",
        "colab_type": "code",
        "outputId": "7666b8b3-585c-453b-c8e7-0ebda8481440",
        "colab": {
          "base_uri": "https://localhost:8080/",
          "height": 85
        }
      },
      "source": [
        "#sc_countries[(sc_countries['Citizenship Country'] == 'GUATEMALA') & sc_countries['Most Serious Criminal Conviction'].isin(migration_related)].count()\n",
        "sc_countries[(sc_countries['Citizenship Country'] == 'GUATEMALA') & ~sc_countries['Most Serious Criminal Conviction'].isin(migration_related)].count()"
      ],
      "execution_count": 4,
      "outputs": [
        {
          "output_type": "execute_result",
          "data": {
            "text/plain": [
              "Departed Date                       6492\n",
              "Citizenship Country                 6492\n",
              "Most Serious Criminal Conviction    6492\n",
              "dtype: int64"
            ]
          },
          "metadata": {
            "tags": []
          },
          "execution_count": 4
        }
      ]
    },
    {
      "cell_type": "markdown",
      "metadata": {
        "id": "-26vO5usJxjJ",
        "colab_type": "text"
      },
      "source": [
        "###Honduras\n",
        "Migration-related Deportations: 1160  \n",
        "Other Deportations: 7075"
      ]
    },
    {
      "cell_type": "code",
      "metadata": {
        "id": "HRwlNw3eJom0",
        "colab_type": "code",
        "outputId": "bea5fdcc-43e1-4f40-95ed-4935f4ceff19",
        "colab": {
          "base_uri": "https://localhost:8080/",
          "height": 85
        }
      },
      "source": [
        "sc_countries[(sc_countries['Citizenship Country'] == 'HONDURAS') & sc_countries['Most Serious Criminal Conviction'].isin(migration_related)].count()\n",
        "sc_countries[(sc_countries['Citizenship Country'] == 'HONDURAS') & ~sc_countries['Most Serious Criminal Conviction'].isin(migration_related)].count()\n"
      ],
      "execution_count": 5,
      "outputs": [
        {
          "output_type": "execute_result",
          "data": {
            "text/plain": [
              "Departed Date                       7075\n",
              "Citizenship Country                 7075\n",
              "Most Serious Criminal Conviction    7075\n",
              "dtype: int64"
            ]
          },
          "metadata": {
            "tags": []
          },
          "execution_count": 5
        }
      ]
    },
    {
      "cell_type": "markdown",
      "metadata": {
        "id": "ovy9qWhzJza3",
        "colab_type": "text"
      },
      "source": [
        "###El Salvador\n",
        "Migration-related Deportations: 594  \n",
        "Other Deportations: 5707"
      ]
    },
    {
      "cell_type": "code",
      "metadata": {
        "id": "z7Zi4SSfJ1py",
        "colab_type": "code",
        "outputId": "d5726842-0675-4796-b9e7-59ff258e5461",
        "colab": {
          "base_uri": "https://localhost:8080/",
          "height": 85
        }
      },
      "source": [
        "sc_countries[(sc_countries['Citizenship Country'] == 'EL SALVADOR') & sc_countries['Most Serious Criminal Conviction'].isin(migration_related)].count()\n",
        "sc_countries[(sc_countries['Citizenship Country'] == 'EL SALVADOR') & ~sc_countries['Most Serious Criminal Conviction'].isin(migration_related)].count()\n"
      ],
      "execution_count": 6,
      "outputs": [
        {
          "output_type": "execute_result",
          "data": {
            "text/plain": [
              "Departed Date                       5707\n",
              "Citizenship Country                 5707\n",
              "Most Serious Criminal Conviction    5707\n",
              "dtype: int64"
            ]
          },
          "metadata": {
            "tags": []
          },
          "execution_count": 6
        }
      ]
    },
    {
      "cell_type": "markdown",
      "metadata": {
        "id": "dgR8MPTNJ7Tz",
        "colab_type": "text"
      },
      "source": [
        "###Jamaica\n",
        "Migration-related Deportations: 11  \n",
        "Other Deportations: 834"
      ]
    },
    {
      "cell_type": "code",
      "metadata": {
        "id": "vpZS-Y2TJ8T7",
        "colab_type": "code",
        "outputId": "79086cc0-1436-402e-c771-5f16109ba33f",
        "colab": {
          "base_uri": "https://localhost:8080/",
          "height": 85
        }
      },
      "source": [
        "sc_countries[(sc_countries['Citizenship Country'] == 'JAMAICA') & sc_countries['Most Serious Criminal Conviction'].isin(migration_related)].count()\n",
        "sc_countries[(sc_countries['Citizenship Country'] == 'JAMAICA') & ~sc_countries['Most Serious Criminal Conviction'].isin(migration_related)].count()\n"
      ],
      "execution_count": 7,
      "outputs": [
        {
          "output_type": "execute_result",
          "data": {
            "text/plain": [
              "Departed Date                       834\n",
              "Citizenship Country                 834\n",
              "Most Serious Criminal Conviction    834\n",
              "dtype: int64"
            ]
          },
          "metadata": {
            "tags": []
          },
          "execution_count": 7
        }
      ]
    },
    {
      "cell_type": "code",
      "metadata": {
        "id": "zJ_IgbPSO-tJ",
        "colab_type": "code",
        "outputId": "b9256ef2-a455-4e07-c63b-6ff0eec45f51",
        "colab": {
          "base_uri": "https://localhost:8080/",
          "height": 119
        }
      },
      "source": [
        "nationality_data = [['MEXICO', 15671, 92586], ['HONDURAS', 1160, 7075], ['GUATEMALA', 1119, 6492], ['EL SALVADOR', 594, 5707], ['JAMAICA', 11, 834]]\n",
        "natgraph_df = pd.DataFrame(nationality_data, columns=['Citizenship Country', 'Migration-Related', 'Other'])\n",
        "print(natgraph_df)\n",
        "natgraph_df.to_csv('natgraph.csv')"
      ],
      "execution_count": 8,
      "outputs": [
        {
          "output_type": "stream",
          "text": [
            "  Citizenship Country  Migration-Related  Other\n",
            "0              MEXICO              15671  92586\n",
            "1            HONDURAS               1160   7075\n",
            "2           GUATEMALA               1119   6492\n",
            "3         EL SALVADOR                594   5707\n",
            "4             JAMAICA                 11    834\n"
          ],
          "name": "stdout"
        }
      ]
    }
  ]
}