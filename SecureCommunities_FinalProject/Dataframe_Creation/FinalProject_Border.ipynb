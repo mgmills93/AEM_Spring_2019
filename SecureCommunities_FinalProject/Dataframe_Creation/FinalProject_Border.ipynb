{
  "nbformat": 4,
  "nbformat_minor": 0,
  "metadata": {
    "colab": {
      "name": "FinalProject_Border.ipynb",
      "version": "0.3.2",
      "provenance": [],
      "collapsed_sections": [],
      "toc_visible": true,
      "include_colab_link": true
    },
    "kernelspec": {
      "name": "python3",
      "display_name": "Python 3"
    }
  },
  "cells": [
    {
      "cell_type": "markdown",
      "metadata": {
        "id": "view-in-github",
        "colab_type": "text"
      },
      "source": [
        "<a href=\"https://colab.research.google.com/github/mgmills93/AEM_Spring_2019/blob/master/SecureCommunities_FinalProject/FinalProject_Border.ipynb\" target=\"_parent\"><img src=\"https://colab.research.google.com/assets/colab-badge.svg\" alt=\"Open In Colab\"/></a>"
      ]
    },
    {
      "metadata": {
        "id": "2ciQGJWi89Ye",
        "colab_type": "text"
      },
      "cell_type": "markdown",
      "source": [
        "### Question 3:\tDo border states deport more individuals through SC than interior states?\n",
        "---\n",
        "I will define all deportations by whether the state of arrest was on a U.S. land border or not. Then, I will compare the two groups to see if the number of arrests is statistically significant."
      ]
    },
    {
      "metadata": {
        "id": "zTKOeuEH8Qmn",
        "colab_type": "code",
        "colab": {}
      },
      "cell_type": "code",
      "source": [
        "import pandas as pd\n",
        "import numpy as np\n",
        "\n",
        "sc_arrests = pd.read_excel('https://raw.githubusercontent.com/mgmills93/AEM_Spring_2019/master/enforcement/Secure_Communities_2017_Deportations.xlsx', header=4)\n",
        "# border_states lists the U.S. states that share a border with either Canada or Mexico, excluding states with a water border only\n",
        "border_states = ['TX', 'AZ', 'NM', 'CA', 'AK', 'ME', 'NH', 'VT', 'MI', 'MN', 'ND', 'MT', 'ID', 'WA', 'NY']\n",
        "\n",
        "def sum_border(sc_arrests):\n",
        "  sum_arrests = sc_arrests.groupby('State').size().to_frame('Arrest_Number').reset_index()\n",
        "  sum_arrests['Border'] = ['Y' if x in border_states else 'N' for x in sum_arrests['State']]\n",
        "\n",
        "  return sum_arrests"
      ],
      "execution_count": 0,
      "outputs": []
    },
    {
      "metadata": {
        "id": "TwIGT5p99bmB",
        "colab_type": "text"
      },
      "cell_type": "markdown",
      "source": [
        "###Pipeline"
      ]
    },
    {
      "metadata": {
        "id": "wNP7MfWM9dMB",
        "colab_type": "code",
        "colab": {}
      },
      "cell_type": "code",
      "source": [
        "#sum and group the arrest observations by state, create Border column\n",
        "sum_border(sc_arrests)\n",
        "#save border dataset\n",
        "sum_border(sc_arrests).to_csv(\"border_states.csv\")"
      ],
      "execution_count": 0,
      "outputs": []
    }
  ]
}
