{
  "nbformat": 4,
  "nbformat_minor": 0,
  "metadata": {
    "colab": {
      "name": "FinalProject_Nationality",
      "version": "0.3.2",
      "provenance": [],
      "collapsed_sections": [],
      "include_colab_link": true
    },
    "kernelspec": {
      "name": "python3",
      "display_name": "Python 3"
    }
  },
  "cells": [
    {
      "cell_type": "markdown",
      "metadata": {
        "id": "view-in-github",
        "colab_type": "text"
      },
      "source": [
        "<a href=\"https://colab.research.google.com/github/mgmills93/AEM_Spring_2019/blob/master/SecureCommunities_FinalProject/Dataframe_Creation/FinalProject_Nationality.ipynb\" target=\"_parent\"><img src=\"https://colab.research.google.com/assets/colab-badge.svg\" alt=\"Open In Colab\"/></a>"
      ]
    },
    {
      "cell_type": "markdown",
      "metadata": {
        "id": "k3CAcU36peGD",
        "colab_type": "text"
      },
      "source": [
        "### Question 2: What nationalities are being deported the most?\n",
        "---\n",
        "I will sort the entire 2015-2017 dataset to see what countries represented the highest populations of deported individuals through Secure Communities during this period."
      ]
    },
    {
      "cell_type": "code",
      "metadata": {
        "id": "Y4hzMFBrs4TC",
        "colab_type": "code",
        "colab": {}
      },
      "source": [
        "import pandas as pd\n",
        "import numpy as np\n",
        "sc_arrests = pd.read_excel('https://raw.githubusercontent.com/mgmills93/AEM_Spring_2019/master/enforcement/Secure_Communities_2017_Deportations.xlsx', header=4)\n",
        "\n",
        "def get_countries(sc_arrests):\n",
        "  \n",
        "  country_date = sc_arrests[[\"Citizenship Country\", \"Arrest Date\"]]\n",
        "  \n",
        "  return country_date\n"
      ],
      "execution_count": 0,
      "outputs": []
    },
    {
      "cell_type": "code",
      "metadata": {
        "id": "fMqDncDzL4_m",
        "colab_type": "code",
        "colab": {}
      },
      "source": [
        "country_date = get_countries(sc_arrests)\n",
        "\n",
        "def sum_countries(country_date):\n",
        "  country_date =  sc_arrests[[\"Citizenship Country\", \"Arrest Date\"]]\n",
        "  country_sum = country_date.groupby('Citizenship Country').size().to_frame('Arrest Date').reset_index()\n",
        "  \n",
        "  return country_sum\n",
        "\n"
      ],
      "execution_count": 0,
      "outputs": []
    },
    {
      "cell_type": "code",
      "metadata": {
        "id": "_jOus2JeO5Rw",
        "colab_type": "code",
        "colab": {}
      },
      "source": [
        "country_sum = sum_countries(country_date)\n",
        "\n",
        "def top_5(country_sum):\n",
        "  country_sort = country_sum.sort_values(by=['Arrest Date'], ascending=False)\n",
        "  country_sort = country_sort.reset_index(drop=True)\n",
        "  \n",
        "  return country_sort\n"
      ],
      "execution_count": 0,
      "outputs": []
    },
    {
      "cell_type": "markdown",
      "metadata": {
        "id": "RtdaoQYup_5k",
        "colab_type": "text"
      },
      "source": [
        "###Pipeline"
      ]
    },
    {
      "cell_type": "code",
      "metadata": {
        "id": "84nQXeGZG7sJ",
        "colab_type": "code",
        "colab": {}
      },
      "source": [
        "#filter columns by country and arrest date\n",
        "get_countries(sc_arrests)\n",
        "#sum arrest totals by country\n",
        "sum_countries(country_date)\n",
        "#sort by top 5 arrest countries\n",
        "top_5(country_sum)\n",
        "#save sorted dataset\n",
        "top_5(country_sum).to_csv(\"top5.csv\")"
      ],
      "execution_count": 0,
      "outputs": []
    }
  ]
}