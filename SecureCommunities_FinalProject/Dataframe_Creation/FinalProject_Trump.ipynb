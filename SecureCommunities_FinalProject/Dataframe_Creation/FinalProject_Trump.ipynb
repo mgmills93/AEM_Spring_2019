{
  "nbformat": 4,
  "nbformat_minor": 0,
  "metadata": {
    "colab": {
      "name": "FinalProject_Trump",
      "version": "0.3.2",
      "provenance": [],
      "collapsed_sections": [],
      "toc_visible": true,
      "include_colab_link": true
    },
    "kernelspec": {
      "name": "python3",
      "display_name": "Python 3"
    }
  },
  "cells": [
    {
      "cell_type": "markdown",
      "metadata": {
        "id": "view-in-github",
        "colab_type": "text"
      },
      "source": [
        "<a href=\"https://colab.research.google.com/github/mgmills93/AEM_Spring_2019/blob/master/SecureCommunities_FinalProject/Dataframe_Creation/FinalProject_Trump.ipynb\" target=\"_parent\"><img src=\"https://colab.research.google.com/assets/colab-badge.svg\" alt=\"Open In Colab\"/></a>"
      ]
    },
    {
      "cell_type": "markdown",
      "metadata": {
        "id": "g0gomnjD7cQq",
        "colab_type": "text"
      },
      "source": [
        "### Question 1:\tIs there a “Trump Effect” in SC arrests overall? \n",
        "---\n",
        "I will sort all arrests over the 2015-2017 period to see if arrests spiked or remained regular directly before and after November 8, 2016, the day Donald Trump was elected president."
      ]
    },
    {
      "cell_type": "code",
      "metadata": {
        "id": "yHe43UyYLPi7",
        "colab_type": "code",
        "colab": {}
      },
      "source": [
        "import pandas as pd\n",
        "import numpy as np\n",
        "sc_arrests = pd.read_excel('https://raw.githubusercontent.com/mgmills93/AEM_Spring_2019/master/enforcement/Secure_Communities_2017_Deportations.xlsx', header=4)\n",
        "\n",
        "def t_isolate(sc_arrests):\n",
        "  trump_columns = sc_arrests.filter(['State', 'County', 'Departed Date', 'Arrest Date', 'Citizenship Country'], axis=1)\n",
        "\n",
        "  return trump_columns"
      ],
      "execution_count": 0,
      "outputs": []
    },
    {
      "cell_type": "code",
      "metadata": {
        "id": "jq6Hh2buT2Qi",
        "colab_type": "code",
        "colab": {}
      },
      "source": [
        "trump_columns = t_isolate(sc_arrests)\n",
        "def time(trump_columns):\n",
        "  trump_columns['Year'] = pd.DatetimeIndex(trump_columns['Departed Date']).year\n",
        "  trump_columns['Month'] = pd.DatetimeIndex(trump_columns['Departed Date']).month\n",
        "  trump_columns['Month_Year'] = pd.to_datetime(trump_columns['Departed Date']).dt.to_period('M')\n"
      ],
      "execution_count": 0,
      "outputs": []
    },
    {
      "cell_type": "code",
      "metadata": {
        "id": "Xuzl_PjVxYwX",
        "colab_type": "code",
        "colab": {}
      },
      "source": [
        "def my_sort(trump_columns):\n",
        "  t_my = trump_columns.groupby('Month_Year').count()\n",
        "  my_sum = t_my[['Departed Date']].reset_index()\n",
        "\n",
        "  return my_sum\n"
      ],
      "execution_count": 0,
      "outputs": []
    },
    {
      "cell_type": "markdown",
      "metadata": {
        "id": "hq_8myty7xL4",
        "colab_type": "text"
      },
      "source": [
        "###Pipeline"
      ]
    },
    {
      "cell_type": "code",
      "metadata": {
        "id": "lTW0RrtbvS1a",
        "colab_type": "code",
        "colab": {}
      },
      "source": [
        "#isolate columns of interest from main dataset\n",
        "t_isolate(sc_arrests)\n",
        "#set time to months\n",
        "time(trump_columns)\n",
        "#sort by month/year\n",
        "my_sort(trump_columns)\n",
        "#save sorted dataset\n",
        "my_sort(trump_columns).to_csv(\"trump_effect.csv\")"
      ],
      "execution_count": 0,
      "outputs": []
    }
  ]
}