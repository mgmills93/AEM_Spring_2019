{
  "nbformat": 4,
  "nbformat_minor": 0,
  "metadata": {
    "colab": {
      "name": "FinalProject_Hispanic_v0.5.ipynb",
      "version": "0.3.2",
      "provenance": [],
      "collapsed_sections": [],
      "toc_visible": true,
      "include_colab_link": true
    },
    "kernelspec": {
      "name": "python3",
      "display_name": "Python 3"
    }
  },
  "cells": [
    {
      "cell_type": "markdown",
      "metadata": {
        "id": "view-in-github",
        "colab_type": "text"
      },
      "source": [
        "<a href=\"https://colab.research.google.com/github/mgmills93/AEM_Spring_2019/blob/master/SecureCommunities_FinalProject/FinalProject_Hispanic_v0_5.ipynb\" target=\"_parent\"><img src=\"https://colab.research.google.com/assets/colab-badge.svg\" alt=\"Open In Colab\"/></a>"
      ]
    },
    {
      "metadata": {
        "id": "1_gUYjJ55CfI",
        "colab_type": "text"
      },
      "cell_type": "markdown",
      "source": [
        "###Question 4:\tIs the number of state SC arrests correlated with the state’s Hispanic population?\n",
        "---\n",
        "I will compare SC arrests by state from 2015-2017 with the percentage of that state's population that claimed some hispanic origin in 2016. \n",
        "\n",
        "This notebook will be updated with a pipeline of commands; I have been having trouble with the file so this one is a placeholder that arrives at the same dataset. (4/21/19)"
      ]
    },
    {
      "metadata": {
        "id": "WnHWOkeDBJkY",
        "colab_type": "code",
        "colab": {
          "base_uri": "https://localhost:8080/",
          "height": 119
        },
        "outputId": "629f2346-76fa-4ccc-aead-19ca37976b47"
      },
      "cell_type": "code",
      "source": [
        "import pandas as pd\n",
        "import numpy as np\n",
        "sc_arrests = pd.read_excel('https://raw.githubusercontent.com/mgmills93/AEM_Spring_2019/master/enforcement/Secure_Communities_2017_Deportations.xlsx', header=4)\n",
        "sum_arrests = sc_arrests.groupby('State').size().to_frame('Arrest_Number').reset_index()\n",
        "print(sum_arrests.sample(5))\n"
      ],
      "execution_count": 8,
      "outputs": [
        {
          "output_type": "stream",
          "text": [
            "   State  Arrest_Number\n",
            "45    TN           1820\n",
            "33    NJ           1154\n",
            "53    WV            259\n",
            "0     AK             10\n",
            "32    NH            114\n"
          ],
          "name": "stdout"
        }
      ]
    },
    {
      "metadata": {
        "id": "MO4QmzQqB3rV",
        "colab_type": "code",
        "colab": {
          "base_uri": "https://localhost:8080/",
          "height": 612
        },
        "outputId": "44662f7d-0d9f-490e-f544-24954788ac85"
      },
      "cell_type": "code",
      "source": [
        "total_pop = pd.read_csv('https://raw.githubusercontent.com/mgmills93/AEM_Spring_2019/master/demographics/ACS_2016_Total_Pop_copy.csv', header=1)\n",
        "print(total_pop.head(10))\n",
        "total_pop.drop(total_pop.columns[[0, 1, 4]], axis=1, inplace=True)\n",
        "# I will rename the columns for geography and total population\n",
        "total_pop.rename(columns={'Geography':'State', 'Estimate; Total':'Total_Population'}, inplace=True)\n",
        "print(total_pop.sample(5))\n",
        "# Now I will convert the state names to the two-letter abbreviations to match my other dataset\n",
        "us_state_abbrev = {\n",
        "    'Alabama': 'AL',\n",
        "    'Alaska': 'AK',\n",
        "    'Arizona': 'AZ',\n",
        "    'Arkansas': 'AR',\n",
        "    'California': 'CA',\n",
        "    'Colorado': 'CO',\n",
        "    'Connecticut': 'CT',\n",
        "    'Delaware': 'DE',\n",
        "    'District of Colmbia': 'DC',\n",
        "    'Florida': 'FL',\n",
        "    'Georgia': 'GA',\n",
        "    'Hawaii': 'HI',\n",
        "    'Idaho': 'ID',\n",
        "    'Illinois': 'IL',\n",
        "    'Indiana': 'IN',\n",
        "    'Iowa': 'IA',\n",
        "    'Kansas': 'KS',\n",
        "    'Kentucky': 'KY',\n",
        "    'Louisiana': 'LA',\n",
        "    'Maine': 'ME',\n",
        "    'Maryland': 'MD',\n",
        "    'Massachusetts': 'MA',\n",
        "    'Michigan': 'MI',\n",
        "    'Minnesota': 'MN',\n",
        "    'Mississippi': 'MS',\n",
        "    'Missouri': 'MO',\n",
        "    'Montana': 'MT',\n",
        "    'Nebraska': 'NE',\n",
        "    'Nevada': 'NV',\n",
        "    'New Hampshire': 'NH',\n",
        "    'New Jersey': 'NJ',\n",
        "    'New Mexico': 'NM',\n",
        "    'New York': 'NY',\n",
        "    'North Carolina': 'NC',\n",
        "    'North Dakota': 'ND',\n",
        "    'Ohio': 'OH',\n",
        "    'Oklahoma': 'OK',\n",
        "    'Oregon': 'OR',\n",
        "    'Pennsylvania': 'PA',\n",
        "    'Puerto Rico': 'PR',\n",
        "    'Rhode Island': 'RI',\n",
        "    'South Carolina': 'SC',\n",
        "    'South Dakota': 'SD',\n",
        "    'Tennessee': 'TN',\n",
        "    'Texas': 'TX',\n",
        "    'Utah': 'UT',\n",
        "    'Vermont': 'VT',\n",
        "    'Virginia': 'VA',\n",
        "    'Washington': 'WA',\n",
        "    'West Virginia': 'WV',\n",
        "    'Wisconsin': 'WI',\n",
        "    'Wyoming': 'WY',}\n",
        "\n",
        "total_pop['State']=total_pop['State'].map(us_state_abbrev)\n",
        "print(total_pop.sample(5))\n"
      ],
      "execution_count": 9,
      "outputs": [
        {
          "output_type": "stream",
          "text": [
            "            Id   Id2             Geography  Estimate; Total  \\\n",
            "0    0100000US   NaN         United States        318558162   \n",
            "1  0400000US01   1.0               Alabama          4841164   \n",
            "2  0400000US02   2.0                Alaska           736855   \n",
            "3  0400000US04   4.0               Arizona          6728577   \n",
            "4  0400000US05   5.0              Arkansas          2968472   \n",
            "5  0400000US06   6.0            California         38654206   \n",
            "6  0400000US08   8.0              Colorado          5359295   \n",
            "7  0400000US09   9.0           Connecticut          3588570   \n",
            "8  0400000US10  10.0              Delaware           934695   \n",
            "9  0400000US11  11.0  District of Columbia           659009   \n",
            "\n",
            "  Margin of Error; Total  \n",
            "0                  *****  \n",
            "1                  *****  \n",
            "2                  *****  \n",
            "3                  *****  \n",
            "4                  *****  \n",
            "5                  *****  \n",
            "6                  *****  \n",
            "7                  *****  \n",
            "8                  *****  \n",
            "9                  *****  \n",
            "        State  Total_Population\n",
            "4    Arkansas           2968472\n",
            "50  Wisconsin           5754798\n",
            "3     Arizona           6728577\n",
            "13      Idaho           1635483\n",
            "23   Michigan           9909600\n",
            "   State  Total_Population\n",
            "5     CA          38654206\n",
            "48    WA           7073146\n",
            "30    NH           1327503\n",
            "15    IN           6589578\n",
            "17    KS           2898292\n"
          ],
          "name": "stdout"
        }
      ]
    },
    {
      "metadata": {
        "id": "LUPYwmAl6Qxk",
        "colab_type": "code",
        "colab": {
          "base_uri": "https://localhost:8080/",
          "height": 221
        },
        "outputId": "f3282b73-e64a-488e-a41f-338734926c15"
      },
      "cell_type": "code",
      "source": [
        "hisp_total = pd.read_csv('https://raw.githubusercontent.com/mgmills93/AEM_Spring_2019/master/demographics/ACS_2016_Hisp_Pop_copy.csv', header=1)\n",
        "hisp_total.drop(hisp_total.columns[[0, 1, 3, 4, 5, 6, 8]], axis=1, inplace=True)\n",
        "# I will now add the missing states\n",
        "missing_states = [pd.Series(['Alaska', 50162], index=hisp_total.columns) ,\n",
        "                  pd.Series(['Montana', 36626], index=hisp_total.columns) ,\n",
        "                  pd.Series(['North Dakota', 24744], index=hisp_total.columns), \n",
        "                  pd.Series(['South Dakota', 29901], index=hisp_total.columns), \n",
        "                  pd.Series(['Vermont', 11183], index=hisp_total.columns), \n",
        "                  pd.Series(['West Virginia', 27021], index=hisp_total.columns), \n",
        "                  pd.Series(['Wyoming', 56681], index=hisp_total.columns),\n",
        "                  pd.Series(['Nebraska', 167405], index=hisp_total.columns)]\n",
        "comp_hisp_total = hisp_total.append(missing_states, ignore_index=True)\n",
        "# I want to rename the columns for geography and total population\n",
        "comp_hisp_total.rename(columns={'Estimate; Total: - Hispanic or Latino:':'Hispanic_Population', 'Geography':'State'}, inplace=True)\n",
        "print(comp_hisp_total.tail(5))\n",
        "# I will now convert the state names to their respective two-letter codes\n",
        "comp_hisp_total['State']=comp_hisp_total['State'].map(us_state_abbrev)\n",
        "print(comp_hisp_total.sample(5))"
      ],
      "execution_count": 10,
      "outputs": [
        {
          "output_type": "stream",
          "text": [
            "            State  Hispanic_Population\n",
            "48   South Dakota                29901\n",
            "49        Vermont                11183\n",
            "50  West Virginia                27021\n",
            "51        Wyoming                56681\n",
            "52       Nebraska               167405\n",
            "   State  Hispanic_Population\n",
            "22    MN               288460\n",
            "23    MS                86733\n",
            "38    TN               347442\n",
            "13    IN               448079\n",
            "34    OR               522568\n"
          ],
          "name": "stdout"
        }
      ]
    },
    {
      "metadata": {
        "id": "pbOB6San6g4Q",
        "colab_type": "code",
        "colab": {
          "base_uri": "https://localhost:8080/",
          "height": 238
        },
        "outputId": "9e63d079-4825-4694-e37a-d18dd60fab07"
      },
      "cell_type": "code",
      "source": [
        "pop_th3set = sum_arrests.merge(total_pop, on='State', how='inner')\n",
        "final_hisp_set = pop_th3set.merge(comp_hisp_total, on='State', how='inner')\n",
        "# I will now create a column %Hispanic by dividing Total 2016 Population by 2016 Hispanic Population\n",
        "final_hisp_set['Percent_Hispanic'] = final_hisp_set['Hispanic_Population']/final_hisp_set['Total_Population']*100\n",
        "final_hisp_set.sort_values('State')\n",
        "print(final_hisp_set.head())\n",
        "final_hisp_set.to_csv(\"hisp_set.csv\")"
      ],
      "execution_count": 13,
      "outputs": [
        {
          "output_type": "stream",
          "text": [
            "  State  Arrest_Number  Total_Population  Hispanic_Population  \\\n",
            "0    AK             10            736855                50162   \n",
            "1    AL           1173           4841164               199686   \n",
            "2    AR            859           2968472               214544   \n",
            "3    AZ          10568           6728577              2144775   \n",
            "4    CA          24843          38654206             15280776   \n",
            "\n",
            "   Percent_Hispanic  \n",
            "0          6.807581  \n",
            "1          4.124752  \n",
            "2          7.227422  \n",
            "3         31.875611  \n",
            "4         39.531988  \n"
          ],
          "name": "stdout"
        }
      ]
    }
  ]
}