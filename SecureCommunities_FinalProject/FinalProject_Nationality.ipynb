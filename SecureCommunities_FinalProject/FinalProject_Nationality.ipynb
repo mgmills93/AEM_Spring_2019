{
  "nbformat": 4,
  "nbformat_minor": 0,
  "metadata": {
    "colab": {
      "name": "FinalProject_Nationality.ipynb",
      "version": "0.3.2",
      "provenance": [],
      "collapsed_sections": [],
      "include_colab_link": true
    },
    "kernelspec": {
      "name": "python3",
      "display_name": "Python 3"
    }
  },
  "cells": [
    {
      "cell_type": "markdown",
      "metadata": {
        "id": "view-in-github",
        "colab_type": "text"
      },
      "source": [
        "<a href=\"https://colab.research.google.com/github/mgmills93/AEM_Spring_2019/blob/master/SecureCommunities_FinalProject/FinalProject_Nationality.ipynb\" target=\"_parent\"><img src=\"https://colab.research.google.com/assets/colab-badge.svg\" alt=\"Open In Colab\"/></a>"
      ]
    },
    {
      "metadata": {
        "id": "VU09-7DS8Gud",
        "colab_type": "text"
      },
      "cell_type": "markdown",
      "source": [
        "###Question 2: What nationalities are being deported the most?\n",
        "---\n",
        "Below I will compile a dataset of all SC arrests by country from 2015-2017."
      ]
    },
    {
      "metadata": {
        "id": "3AZ7J3vh6B9-",
        "colab_type": "code",
        "colab": {}
      },
      "cell_type": "code",
      "source": [
        "import pandas as pd\n",
        "\n",
        "sc_arrests = pd.read_excel('https://raw.githubusercontent.com/mgmills93/AEM_Spring_2019/master/enforcement/Secure_Communities_2017_Deportations.xlsx', header=4)\n",
        "\n",
        "def get_countries(sc_arrests):\n",
        "  country_date = sc_arrests[[\"Citizenship Country\", \"Arrest Date\"]]\n",
        "  \n",
        "  return country_date\n",
        "country_date = get_countries(sc_arrests)"
      ],
      "execution_count": 0,
      "outputs": []
    },
    {
      "metadata": {
        "id": "76YJRlZC6sbY",
        "colab_type": "code",
        "colab": {}
      },
      "cell_type": "code",
      "source": [
        "def sum_countries(country_date):\n",
        "  country_sum = country_date.groupby('Citizenship Country').size().to_frame('Arrest Date').reset_index()\n",
        "  \n",
        "  return country_sum\n"
      ],
      "execution_count": 0,
      "outputs": []
    },
    {
      "metadata": {
        "id": "7a3pi_rV6fIg",
        "colab_type": "text"
      },
      "cell_type": "markdown",
      "source": [
        "###Pipeline"
      ]
    },
    {
      "metadata": {
        "id": "wtGsM4cV6gpu",
        "colab_type": "code",
        "colab": {}
      },
      "cell_type": "code",
      "source": [
        "#filter columns by country and arrest date\n",
        "get_countries\n",
        "#sum arrest totals by country\n",
        "sum_countries(country_date)\n",
        "#save summed dataset\n",
        "sum_countries(country_date).to_csv(\"country_sums.csv\")"
      ],
      "execution_count": 0,
      "outputs": []
    }
  ]
}