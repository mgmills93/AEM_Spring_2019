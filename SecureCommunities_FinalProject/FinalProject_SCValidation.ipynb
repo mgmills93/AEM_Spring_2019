{
  "nbformat": 4,
  "nbformat_minor": 0,
  "metadata": {
    "colab": {
      "name": "FinalProject_SCValidation.ipynb",
      "version": "0.3.2",
      "provenance": [],
      "include_colab_link": true
    },
    "kernelspec": {
      "name": "python3",
      "display_name": "Python 3"
    }
  },
  "cells": [
    {
      "cell_type": "markdown",
      "metadata": {
        "id": "view-in-github",
        "colab_type": "text"
      },
      "source": [
        "<a href=\"https://colab.research.google.com/github/mgmills93/AEM_Spring_2019/blob/master/SecureCommunities_FinalProject/FinalProject_SCValidation.ipynb\" target=\"_parent\"><img src=\"https://colab.research.google.com/assets/colab-badge.svg\" alt=\"Open In Colab\"/></a>"
      ]
    },
    {
      "cell_type": "code",
      "metadata": {
        "id": "soPOKz6rYMJ5",
        "colab_type": "code",
        "colab": {}
      },
      "source": [
        "import pandas as pd\n",
        "import numpy as np"
      ],
      "execution_count": 0,
      "outputs": []
    },
    {
      "cell_type": "code",
      "metadata": {
        "id": "uRFbTAi6YQ0_",
        "colab_type": "code",
        "colab": {}
      },
      "source": [
        "sc_arrests = pd.read_excel('https://raw.githubusercontent.com/mgmills93/AEM_Spring_2019/master/enforcement/Secure_Communities_2017_Deportations.xlsx', header=4)"
      ],
      "execution_count": 0,
      "outputs": []
    },
    {
      "cell_type": "code",
      "metadata": {
        "id": "arKvNrqWY5E1",
        "colab_type": "code",
        "colab": {
          "base_uri": "https://localhost:8080/",
          "height": 287
        },
        "outputId": "8ff1bf34-812b-471d-c421-157c301e96cf"
      },
      "source": [
        "sc_arrests['Year'] = pd.DatetimeIndex(sc_arrests['Departed Date']).year\n",
        "#print(sc_arrests.sample(5))\n",
        "sc_arrests.groupby('Year').count()"
      ],
      "execution_count": 8,
      "outputs": [
        {
          "output_type": "execute_result",
          "data": {
            "text/html": [
              "<div>\n",
              "<style scoped>\n",
              "    .dataframe tbody tr th:only-of-type {\n",
              "        vertical-align: middle;\n",
              "    }\n",
              "\n",
              "    .dataframe tbody tr th {\n",
              "        vertical-align: top;\n",
              "    }\n",
              "\n",
              "    .dataframe thead th {\n",
              "        text-align: right;\n",
              "    }\n",
              "</style>\n",
              "<table border=\"1\" class=\"dataframe\">\n",
              "  <thead>\n",
              "    <tr style=\"text-align: right;\">\n",
              "      <th></th>\n",
              "      <th>State</th>\n",
              "      <th>County</th>\n",
              "      <th>Departed Date</th>\n",
              "      <th>Port Of Departure</th>\n",
              "      <th>Departed To Country</th>\n",
              "      <th>Case Status</th>\n",
              "      <th>Case Category</th>\n",
              "      <th>Processing Disposition Code</th>\n",
              "      <th>Final Order Date</th>\n",
              "      <th>Charge Code</th>\n",
              "      <th>...</th>\n",
              "      <th>Conviction Dt</th>\n",
              "      <th>Sentence Days Qty</th>\n",
              "      <th>Sentence Months Qty</th>\n",
              "      <th>Sentence Years Qty</th>\n",
              "      <th>Removal Case COL</th>\n",
              "      <th>Aggravated Felon Type</th>\n",
              "      <th>Book In Date</th>\n",
              "      <th>Book Out Date</th>\n",
              "      <th>Release Reason</th>\n",
              "      <th>Case ID</th>\n",
              "    </tr>\n",
              "    <tr>\n",
              "      <th>Year</th>\n",
              "      <th></th>\n",
              "      <th></th>\n",
              "      <th></th>\n",
              "      <th></th>\n",
              "      <th></th>\n",
              "      <th></th>\n",
              "      <th></th>\n",
              "      <th></th>\n",
              "      <th></th>\n",
              "      <th></th>\n",
              "      <th></th>\n",
              "      <th></th>\n",
              "      <th></th>\n",
              "      <th></th>\n",
              "      <th></th>\n",
              "      <th></th>\n",
              "      <th></th>\n",
              "      <th></th>\n",
              "      <th></th>\n",
              "      <th></th>\n",
              "      <th></th>\n",
              "    </tr>\n",
              "  </thead>\n",
              "  <tbody>\n",
              "    <tr>\n",
              "      <th>2014</th>\n",
              "      <td>16301</td>\n",
              "      <td>16301</td>\n",
              "      <td>16301</td>\n",
              "      <td>16301</td>\n",
              "      <td>16301</td>\n",
              "      <td>16301</td>\n",
              "      <td>16301</td>\n",
              "      <td>16284</td>\n",
              "      <td>15546</td>\n",
              "      <td>16126</td>\n",
              "      <td>...</td>\n",
              "      <td>15063</td>\n",
              "      <td>8010</td>\n",
              "      <td>6094</td>\n",
              "      <td>5496</td>\n",
              "      <td>15053</td>\n",
              "      <td>16297</td>\n",
              "      <td>15422</td>\n",
              "      <td>15422</td>\n",
              "      <td>15422</td>\n",
              "      <td>16301</td>\n",
              "    </tr>\n",
              "    <tr>\n",
              "      <th>2015</th>\n",
              "      <td>59242</td>\n",
              "      <td>59242</td>\n",
              "      <td>59243</td>\n",
              "      <td>59243</td>\n",
              "      <td>59243</td>\n",
              "      <td>59243</td>\n",
              "      <td>59243</td>\n",
              "      <td>59203</td>\n",
              "      <td>57126</td>\n",
              "      <td>58690</td>\n",
              "      <td>...</td>\n",
              "      <td>56511</td>\n",
              "      <td>28822</td>\n",
              "      <td>22153</td>\n",
              "      <td>19797</td>\n",
              "      <td>56464</td>\n",
              "      <td>58614</td>\n",
              "      <td>57339</td>\n",
              "      <td>57338</td>\n",
              "      <td>57338</td>\n",
              "      <td>59243</td>\n",
              "    </tr>\n",
              "    <tr>\n",
              "      <th>2016</th>\n",
              "      <td>58572</td>\n",
              "      <td>58572</td>\n",
              "      <td>58572</td>\n",
              "      <td>58572</td>\n",
              "      <td>58572</td>\n",
              "      <td>58572</td>\n",
              "      <td>58572</td>\n",
              "      <td>58542</td>\n",
              "      <td>56422</td>\n",
              "      <td>57945</td>\n",
              "      <td>...</td>\n",
              "      <td>54892</td>\n",
              "      <td>26181</td>\n",
              "      <td>20139</td>\n",
              "      <td>17945</td>\n",
              "      <td>54818</td>\n",
              "      <td>55205</td>\n",
              "      <td>56858</td>\n",
              "      <td>56857</td>\n",
              "      <td>56857</td>\n",
              "      <td>58572</td>\n",
              "    </tr>\n",
              "    <tr>\n",
              "      <th>2017</th>\n",
              "      <td>15486</td>\n",
              "      <td>15486</td>\n",
              "      <td>15486</td>\n",
              "      <td>15486</td>\n",
              "      <td>15486</td>\n",
              "      <td>15486</td>\n",
              "      <td>15486</td>\n",
              "      <td>15481</td>\n",
              "      <td>14788</td>\n",
              "      <td>15267</td>\n",
              "      <td>...</td>\n",
              "      <td>14101</td>\n",
              "      <td>6325</td>\n",
              "      <td>5187</td>\n",
              "      <td>4610</td>\n",
              "      <td>14080</td>\n",
              "      <td>14755</td>\n",
              "      <td>15130</td>\n",
              "      <td>15130</td>\n",
              "      <td>15130</td>\n",
              "      <td>15486</td>\n",
              "    </tr>\n",
              "  </tbody>\n",
              "</table>\n",
              "<p>4 rows × 30 columns</p>\n",
              "</div>"
            ],
            "text/plain": [
              "      State  County  Departed Date  Port Of Departure  Departed To Country  \\\n",
              "Year                                                                         \n",
              "2014  16301   16301          16301              16301                16301   \n",
              "2015  59242   59242          59243              59243                59243   \n",
              "2016  58572   58572          58572              58572                58572   \n",
              "2017  15486   15486          15486              15486                15486   \n",
              "\n",
              "      Case Status  Case Category  Processing Disposition Code  \\\n",
              "Year                                                            \n",
              "2014        16301          16301                        16284   \n",
              "2015        59243          59243                        59203   \n",
              "2016        58572          58572                        58542   \n",
              "2017        15486          15486                        15481   \n",
              "\n",
              "      Final Order Date  Charge Code  ...  Conviction Dt  Sentence Days Qty  \\\n",
              "Year                                 ...                                     \n",
              "2014             15546        16126  ...          15063               8010   \n",
              "2015             57126        58690  ...          56511              28822   \n",
              "2016             56422        57945  ...          54892              26181   \n",
              "2017             14788        15267  ...          14101               6325   \n",
              "\n",
              "      Sentence Months Qty  Sentence Years Qty  Removal Case COL  \\\n",
              "Year                                                              \n",
              "2014                 6094                5496             15053   \n",
              "2015                22153               19797             56464   \n",
              "2016                20139               17945             54818   \n",
              "2017                 5187                4610             14080   \n",
              "\n",
              "      Aggravated Felon Type  Book In Date  Book Out Date  Release Reason  \\\n",
              "Year                                                                       \n",
              "2014                  16297         15422          15422           15422   \n",
              "2015                  58614         57339          57338           57338   \n",
              "2016                  55205         56858          56857           56857   \n",
              "2017                  14755         15130          15130           15130   \n",
              "\n",
              "      Case ID  \n",
              "Year           \n",
              "2014    16301  \n",
              "2015    59243  \n",
              "2016    58572  \n",
              "2017    15486  \n",
              "\n",
              "[4 rows x 30 columns]"
            ]
          },
          "metadata": {
            "tags": []
          },
          "execution_count": 8
        }
      ]
    },
    {
      "cell_type": "code",
      "metadata": {
        "id": "M_dwj1d3b46J",
        "colab_type": "code",
        "colab": {
          "base_uri": "https://localhost:8080/",
          "height": 561
        },
        "outputId": "35080db7-caed-4858-962d-aef5c9f9e2e4"
      },
      "source": [
        "migration_related = ['Illegal Re-Entry (INA SEC.101(a)(43)(O), 8USC1326 only)', 'Illegal Entry (INA SEC.101(a)(43)(O), 8USC1325 only)']\n",
        "#sc_arrests[(sc_arrests['Year'] == 2015) & sc_arrests['Most Serious Criminal Conviction'].isin(migration_related)].count()\n",
        "sc_arrests[(sc_arrests['Year'] == 2015) & ~sc_arrests['Most Serious Criminal Conviction'].isin(migration_related)].count()"
      ],
      "execution_count": 17,
      "outputs": [
        {
          "output_type": "execute_result",
          "data": {
            "text/plain": [
              "State                                    51464\n",
              "County                                   51464\n",
              "Departed Date                            51465\n",
              "Port Of Departure                        51465\n",
              "Departed To Country                      51465\n",
              "Case Status                              51465\n",
              "Case Category                            51465\n",
              "Processing Disposition Code              51426\n",
              "Final Order Date                         49380\n",
              "Charge Code                              50932\n",
              "Charge Section                           50932\n",
              "Arrest Date                              51465\n",
              "Gender                                   51465\n",
              "Birth Country                            51367\n",
              "Citizenship Country                      51461\n",
              "Birth Date                               51448\n",
              "Entry Status                             50760\n",
              "Entry Date                               26650\n",
              "Most Serious Criminal Conviction         48733\n",
              "Most Serious Criminal Conviction Code    48733\n",
              "Conviction Dt                            48733\n",
              "Sentence Days Qty                        23379\n",
              "Sentence Months Qty                      19986\n",
              "Sentence Years Qty                       19030\n",
              "Removal Case COL                         48693\n",
              "Aggravated Felon Type                    51112\n",
              "Book In Date                             49982\n",
              "Book Out Date                            49981\n",
              "Release Reason                           49981\n",
              "Case ID                                  51465\n",
              "Year                                     51465\n",
              "dtype: int64"
            ]
          },
          "metadata": {
            "tags": []
          },
          "execution_count": 17
        }
      ]
    },
    {
      "cell_type": "code",
      "metadata": {
        "id": "_zPOymsel136",
        "colab_type": "code",
        "colab": {
          "base_uri": "https://localhost:8080/",
          "height": 561
        },
        "outputId": "24ce42c0-89f3-42c5-e55c-043a1c737436"
      },
      "source": [
        "#sc_arrests[(sc_arrests['Year'] == 2016) & sc_arrests['Most Serious Criminal Conviction'].isin(migration_related)].count()\n",
        "sc_arrests[(sc_arrests['Year'] == 2016) & ~sc_arrests['Most Serious Criminal Conviction'].isin(migration_related)].count()"
      ],
      "execution_count": 19,
      "outputs": [
        {
          "output_type": "execute_result",
          "data": {
            "text/plain": [
              "State                                    51246\n",
              "County                                   51246\n",
              "Departed Date                            51246\n",
              "Port Of Departure                        51246\n",
              "Departed To Country                      51246\n",
              "Case Status                              51246\n",
              "Case Category                            51246\n",
              "Processing Disposition Code              51218\n",
              "Final Order Date                         49127\n",
              "Charge Code                              50642\n",
              "Charge Section                           50642\n",
              "Arrest Date                              51246\n",
              "Gender                                   51246\n",
              "Birth Country                            51092\n",
              "Citizenship Country                      51243\n",
              "Birth Date                               51225\n",
              "Entry Status                             50548\n",
              "Entry Date                               25624\n",
              "Most Serious Criminal Conviction         47566\n",
              "Most Serious Criminal Conviction Code    47566\n",
              "Conviction Dt                            47566\n",
              "Sentence Days Qty                        21307\n",
              "Sentence Months Qty                      18139\n",
              "Sentence Years Qty                       17256\n",
              "Removal Case COL                         47496\n",
              "Aggravated Felon Type                    49373\n",
              "Book In Date                             49823\n",
              "Book Out Date                            49822\n",
              "Release Reason                           49822\n",
              "Case ID                                  51246\n",
              "Year                                     51246\n",
              "dtype: int64"
            ]
          },
          "metadata": {
            "tags": []
          },
          "execution_count": 19
        }
      ]
    }
  ]
}