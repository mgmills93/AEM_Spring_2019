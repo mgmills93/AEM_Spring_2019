{
  "nbformat": 4,
  "nbformat_minor": 0,
  "metadata": {
    "colab": {
      "name": "Take Home Assignment 3: Mary Mills",
      "version": "0.3.2",
      "provenance": [],
      "collapsed_sections": [],
      "include_colab_link": true
    },
    "kernelspec": {
      "name": "python3",
      "display_name": "Python 3"
    }
  },
  "cells": [
    {
      "cell_type": "markdown",
      "metadata": {
        "id": "view-in-github",
        "colab_type": "text"
      },
      "source": [
        "<a href=\"https://colab.research.google.com/github/mgmills93/AEM_Spring_2019/blob/master/Take_Home_Assignment_3_Mary_Mills.ipynb\" target=\"_parent\"><img src=\"https://colab.research.google.com/assets/colab-badge.svg\" alt=\"Open In Colab\"/></a>"
      ]
    },
    {
      "metadata": {
        "id": "ifJX9u2k92U9",
        "colab_type": "text"
      },
      "cell_type": "markdown",
      "source": [
        "## THA3: Research Question and Dataset\n",
        "---\n",
        "\n",
        "\n",
        "The simple research question I will seek to answer is:** Did border states deport more individuals through the Secure Communities program than non-border states during the period 2014-2017? **\n",
        "\n",
        "Secondly, as a follow-up question, I will also seek to answer:** Do the levels of Secure Communities arrests during this period correlate at all to a state's Hispanic population?**\n",
        "\n",
        "The data I will use comes from two separate sources. The** first source** is a dataset that lists individual-level Secure Communities arrests from 2014 through 2017. I found this data through ICE's FOIA library, available here: https://www.ice.gov/foia/library\n",
        "\n",
        "This set contains many individual details about the Secure Communities deportees (port of exit, sex, country of origin, etc.) but for now the main data point I want is the number of arrests per state. \n",
        "\n",
        "The **second and third datasets** I will use are ones that I created through The U.S. Census website's American Fact Finder Tool. I filtered 2016's population data by total population, and then hispanic origin data by state as well, and collapsed all specific ethnicity data to obtain the overall percentage of that state's residents who were of Hispanic origin in 2016. I chose 2016 in the hopes that these figures would be a relative median between 2015 and 2017's numbers. \n"
      ]
    },
    {
      "metadata": {
        "id": "tlo71Li0Vfk1",
        "colab_type": "text"
      },
      "cell_type": "markdown",
      "source": [
        "\n",
        "### Secure Communities Data: Collapsing Arrest_Number and Creating Border Column\n",
        "---\n",
        "\n",
        "Below I will sum each state's arrests from the Secure Communities dataset, and create a new column to identify which states lie on the Mexico and Canada borders. I excluded all states from this list that have only a water border with either country (ex. Michigan). \n"
      ]
    },
    {
      "metadata": {
        "id": "5PjdLI-J4xwU",
        "colab_type": "code",
        "outputId": "b05bae01-24cb-4a90-dcad-a2df5adedbea",
        "colab": {
          "base_uri": "https://localhost:8080/",
          "height": 119
        }
      },
      "cell_type": "code",
      "source": [
        "import pandas as pd\n",
        "import numpy as np\n",
        "# border_states lists the U.S. states that share a border with either Canada or Mexico, excluding states with a water border only\n",
        "border_states = ['TX', 'AZ', 'NM', 'CA', 'AK', 'ME', 'NH', 'VT', 'MI', 'MN', 'ND', 'MT', 'ID', 'WA', 'NY']\n",
        "sc_arrests = pd.read_excel('https://raw.githubusercontent.com/mgmills93/AEM_Spring_2019/master/enforcement/Secure_Communities_2017_Deportations.xlsx', header=4)\n",
        "# I will sum and group the arrest observations by state\n",
        "sum_arrests = sc_arrests.groupby('State').size().to_frame('Arrest_Number').reset_index()\n",
        "# Creating the Border column will identify whether a state is in the border_states list created above\n",
        "sum_arrests['Border'] = ['Y' if x in border_states else 'N' for x in sum_arrests['State']]\n",
        "print(sum_arrests.sample(5))\n"
      ],
      "execution_count": 0,
      "outputs": [
        {
          "output_type": "stream",
          "text": [
            "   State  Arrest_Number Border\n",
            "21    MD            867      N\n",
            "28    MT             30      Y\n",
            "46    TX          54588      Y\n",
            "53    WV            259      N\n",
            "49    VI              3      N\n"
          ],
          "name": "stdout"
        }
      ]
    },
    {
      "metadata": {
        "id": "xrlqVev0ASWh",
        "colab_type": "text"
      },
      "cell_type": "markdown",
      "source": [
        "###Census Data: Cleaning Total & Hispanic Origin Population Data and Preparing for Merge\n",
        "---\n",
        "Next I will clean the Census datasets in preparation to merge them into my existing dataset by State.\n",
        "\n",
        "\n",
        "The dictionary that I used to convert all the state names to their respective two-letter codes I found on GitHub here: https://gist.github.com/rogerallen/1583593#file-us_state_abbrev-py\n"
      ]
    },
    {
      "metadata": {
        "id": "KDgLhZo8S_1_",
        "colab_type": "code",
        "outputId": "00a415e2-571b-4e7e-cc7a-f671355e4413",
        "colab": {
          "base_uri": "https://localhost:8080/",
          "height": 323
        }
      },
      "cell_type": "code",
      "source": [
        "import pandas as pd\n",
        "import numpy as np\n",
        "total_pop = pd.read_csv('https://raw.githubusercontent.com/mgmills93/AEM_Spring_2019/master/demographics/ACS_2016_Total_Pop_copy.csv', header=1)\n",
        "print(total_pop.sample(5))\n",
        "total_pop.drop(total_pop.columns[[0, 1, 4]], axis=1, inplace=True)\n",
        "# I will rename the columns for geography and total population\n",
        "total_pop.rename(columns={'Geography':'State', 'Estimate; Total':'Total_Population'}, inplace=True)\n",
        "print(total_pop.sample(5))\n",
        "# Now I will convert the state names to the two-letter abbreviations to match my other dataset\n",
        "us_state_abbrev = {\n",
        "    'Alabama': 'AL',\n",
        "    'Alaska': 'AK',\n",
        "    'Arizona': 'AZ',\n",
        "    'Arkansas': 'AR',\n",
        "    'California': 'CA',\n",
        "    'Colorado': 'CO',\n",
        "    'Connecticut': 'CT',\n",
        "    'Delaware': 'DE',\n",
        "    'District of Colmbia': 'DC',\n",
        "    'Florida': 'FL',\n",
        "    'Georgia': 'GA',\n",
        "    'Hawaii': 'HI',\n",
        "    'Idaho': 'ID',\n",
        "    'Illinois': 'IL',\n",
        "    'Indiana': 'IN',\n",
        "    'Iowa': 'IA',\n",
        "    'Kansas': 'KS',\n",
        "    'Kentucky': 'KY',\n",
        "    'Louisiana': 'LA',\n",
        "    'Maine': 'ME',\n",
        "    'Maryland': 'MD',\n",
        "    'Massachusetts': 'MA',\n",
        "    'Michigan': 'MI',\n",
        "    'Minnesota': 'MN',\n",
        "    'Mississippi': 'MS',\n",
        "    'Missouri': 'MO',\n",
        "    'Montana': 'MT',\n",
        "    'Nebraska': 'NE',\n",
        "    'Nevada': 'NV',\n",
        "    'New Hampshire': 'NH',\n",
        "    'New Jersey': 'NJ',\n",
        "    'New Mexico': 'NM',\n",
        "    'New York': 'NY',\n",
        "    'North Carolina': 'NC',\n",
        "    'North Dakota': 'ND',\n",
        "    'Ohio': 'OH',\n",
        "    'Oklahoma': 'OK',\n",
        "    'Oregon': 'OR',\n",
        "    'Pennsylvania': 'PA',\n",
        "    'Puerto Rico': 'PR',\n",
        "    'Rhode Island': 'RI',\n",
        "    'South Carolina': 'SC',\n",
        "    'South Dakota': 'SD',\n",
        "    'Tennessee': 'TN',\n",
        "    'Texas': 'TX',\n",
        "    'Utah': 'UT',\n",
        "    'Vermont': 'VT',\n",
        "    'Virginia': 'VA',\n",
        "    'Washington': 'WA',\n",
        "    'West Virginia': 'WV',\n",
        "    'Wisconsin': 'WI',\n",
        "    'Wyoming': 'WY',}\n",
        "\n",
        "total_pop['State']=total_pop['State'].map(us_state_abbrev)\n",
        "print(total_pop.sample(5))\n"
      ],
      "execution_count": 0,
      "outputs": [
        {
          "output_type": "stream",
          "text": [
            "             Id   Id2    Geography  Estimate; Total Margin of Error; Total\n",
            "51  0400000US56  56.0      Wyoming           583029                  *****\n",
            "21  0400000US24  24.0     Maryland          5959902                  *****\n",
            "2   0400000US02   2.0       Alaska           736855                  *****\n",
            "17  0400000US20  20.0       Kansas          2898292                  *****\n",
            "25  0400000US28  28.0  Mississippi          2989192                  *****\n",
            "             State  Total_Population\n",
            "34  North Carolina           9940828\n",
            "19       Louisiana           4645670\n",
            "2           Alaska            736855\n",
            "35    North Dakota            736162\n",
            "36            Ohio          11586941\n",
            "   State  Total_Population\n",
            "14    IL          12851684\n",
            "40    RI           1054491\n",
            "33    NY          19697457\n",
            "28    NE           1881259\n",
            "35    ND            736162\n"
          ],
          "name": "stdout"
        }
      ]
    },
    {
      "metadata": {
        "id": "Y3trhJdcWHj0",
        "colab_type": "text"
      },
      "cell_type": "markdown",
      "source": [
        "###Hispanic Origin Dataset\n",
        "\n",
        "The dataset I obtained from Fact Finder did not include Hispanic Origin data for 7 states: Alaska, Montana, North Dakota, South Dakota, Vermont, West Virginia, and Wyoming. I searched elsewhere on the Census website to obtain these numbers, and found them through the Census' QuickFacts page: https://factfinder.census.gov/faces/nav/jsf/pages/community_facts.xhtml?src=bkmk\n",
        "\n",
        "I will insert these population figures individually below."
      ]
    },
    {
      "metadata": {
        "id": "R52gkYB1AcTR",
        "colab_type": "code",
        "outputId": "2748c84a-2249-4180-8d3a-59c922ceb5af",
        "colab": {
          "base_uri": "https://localhost:8080/",
          "height": 221
        }
      },
      "cell_type": "code",
      "source": [
        "import pandas as pd\n",
        "import numpy as np\n",
        "hisp_total = pd.read_csv('https://raw.githubusercontent.com/mgmills93/AEM_Spring_2019/master/demographics/ACS_2016_Hisp_Pop_copy.csv', header=1)\n",
        "hisp_total.drop(hisp_total.columns[[0, 1, 3, 4, 5, 6, 8]], axis=1, inplace=True)\n",
        "# I will now add the missing states\n",
        "missing_states = [pd.Series(['Alaska', 50162], index=hisp_total.columns) ,\n",
        "                  pd.Series(['Montana', 36626], index=hisp_total.columns) ,\n",
        "                  pd.Series(['North Dakota', 24744], index=hisp_total.columns), \n",
        "                  pd.Series(['South Dakota', 29901], index=hisp_total.columns), \n",
        "                  pd.Series(['Vermont', 11183], index=hisp_total.columns), \n",
        "                  pd.Series(['West Virginia', 27021], index=hisp_total.columns), \n",
        "                  pd.Series(['Wyoming', 56681], index=hisp_total.columns),\n",
        "                  pd.Series(['Nebraska', 167405], index=hisp_total.columns)]\n",
        "comp_hisp_total = hisp_total.append(missing_states, ignore_index=True)\n",
        "# I want to rename the columns for geography and total population\n",
        "comp_hisp_total.rename(columns={'Estimate; Total: - Hispanic or Latino:':'Hispanic_Population', 'Geography':'State'}, inplace=True)\n",
        "print(comp_hisp_total.tail(5))\n",
        "# I will now convert the state names to their respective two-letter codes\n",
        "comp_hisp_total['State']=comp_hisp_total['State'].map(us_state_abbrev)\n",
        "print(comp_hisp_total.sample(5))"
      ],
      "execution_count": 0,
      "outputs": [
        {
          "output_type": "stream",
          "text": [
            "            State  Hispanic_Population\n",
            "48   South Dakota                29901\n",
            "49        Vermont                11183\n",
            "50  West Virginia                27021\n",
            "51        Wyoming                56681\n",
            "52       Nebraska               167405\n",
            "   State  Hispanic_Population\n",
            "51    WY                56681\n",
            "18    ME                20714\n",
            "5     CT               562347\n",
            "22    MN               288460\n",
            "21    MI               491430\n"
          ],
          "name": "stdout"
        }
      ]
    },
    {
      "metadata": {
        "id": "k1U6p-drc4_u",
        "colab_type": "text"
      },
      "cell_type": "markdown",
      "source": [
        "###Merging the Three Sets and Creating %Hispanic Column\n",
        "---\n",
        "Now I will merge these three datasets by state.\n",
        "I can validate that no states were dropped because there are 50 rows. There were no Secure Communities arrests in Nebraska reported during this time, and this set includes Puerto Rico (50 states - Nebraska + Puerto Rico)=50."
      ]
    },
    {
      "metadata": {
        "id": "s19jiyqzc-ir",
        "colab_type": "code",
        "outputId": "301dc8b0-78c0-4fa3-af16-fc8e4d6fb35c",
        "colab": {
          "base_uri": "https://localhost:8080/",
          "height": 238
        }
      },
      "cell_type": "code",
      "source": [
        "pop_th3set = sum_arrests.merge(total_pop, on='State', how='inner')\n",
        "final_th3set = pop_th3set.merge(comp_hisp_total, on='State', how='inner')\n",
        "# I will now create a column %Hispanic by dividing Total 2016 Population by 2016 Hispanic Population\n",
        "final_th3set['Percent_Hispanic'] = final_th3set['Hispanic_Population']/final_th3set['Total_Population']*100\n",
        "final_th3set.sort_values('State')\n",
        "print(final_th3set.head())"
      ],
      "execution_count": 0,
      "outputs": [
        {
          "output_type": "stream",
          "text": [
            "  State  Arrest_Number Border  Total_Population  Hispanic_Population  \\\n",
            "0    AK             10      Y            736855                50162   \n",
            "1    AL           1173      N           4841164               199686   \n",
            "2    AR            859      N           2968472               214544   \n",
            "3    AZ          10568      Y           6728577              2144775   \n",
            "4    CA          24843      Y          38654206             15280776   \n",
            "\n",
            "   Percent_Hispanic  \n",
            "0          6.807581  \n",
            "1          4.124752  \n",
            "2          7.227422  \n",
            "3         31.875611  \n",
            "4         39.531988  \n"
          ],
          "name": "stdout"
        }
      ]
    },
    {
      "metadata": {
        "id": "MnXyf6t2jOf2",
        "colab_type": "text"
      },
      "cell_type": "markdown",
      "source": [
        "###Analysis: Do Border States Have More Secure Communities Arrests?\n",
        "---\n",
        "Now that I have compiled my dataset, I will start by answering my first question of whether border or non-border states had more Secure Communities arrests. To do this, I will first find the total number of arrests for the two groups. Then I will find the means of both groups. "
      ]
    },
    {
      "metadata": {
        "id": "rT2l8H61je1_",
        "colab_type": "code",
        "outputId": "9b1cd556-c42e-4e19-9351-205cee424173",
        "colab": {
          "base_uri": "https://localhost:8080/",
          "height": 142
        }
      },
      "cell_type": "code",
      "source": [
        "# total SC arrests\n",
        "final_th3set.groupby('Border').sum()\n"
      ],
      "execution_count": 0,
      "outputs": [
        {
          "output_type": "execute_result",
          "data": {
            "text/html": [
              "<div>\n",
              "<style scoped>\n",
              "    .dataframe tbody tr th:only-of-type {\n",
              "        vertical-align: middle;\n",
              "    }\n",
              "\n",
              "    .dataframe tbody tr th {\n",
              "        vertical-align: top;\n",
              "    }\n",
              "\n",
              "    .dataframe thead th {\n",
              "        text-align: right;\n",
              "    }\n",
              "</style>\n",
              "<table border=\"1\" class=\"dataframe\">\n",
              "  <thead>\n",
              "    <tr style=\"text-align: right;\">\n",
              "      <th></th>\n",
              "      <th>Arrest_Number</th>\n",
              "      <th>Total_Population</th>\n",
              "      <th>Hispanic_Population</th>\n",
              "      <th>Percent_Hispanic</th>\n",
              "    </tr>\n",
              "    <tr>\n",
              "      <th>Border</th>\n",
              "      <th></th>\n",
              "      <th></th>\n",
              "      <th></th>\n",
              "      <th></th>\n",
              "    </tr>\n",
              "  </thead>\n",
              "  <tbody>\n",
              "    <tr>\n",
              "      <th>N</th>\n",
              "      <td>46298</td>\n",
              "      <td>195578755</td>\n",
              "      <td>25330750</td>\n",
              "      <td>441.161667</td>\n",
              "    </tr>\n",
              "    <tr>\n",
              "      <th>Y</th>\n",
              "      <td>102477</td>\n",
              "      <td>123968524</td>\n",
              "      <td>35150609</td>\n",
              "      <td>235.686889</td>\n",
              "    </tr>\n",
              "  </tbody>\n",
              "</table>\n",
              "</div>"
            ],
            "text/plain": [
              "        Arrest_Number  Total_Population  Hispanic_Population  Percent_Hispanic\n",
              "Border                                                                        \n",
              "N               46298         195578755             25330750        441.161667\n",
              "Y              102477         123968524             35150609        235.686889"
            ]
          },
          "metadata": {
            "tags": []
          },
          "execution_count": 5
        }
      ]
    },
    {
      "metadata": {
        "id": "S1OsCVDCkXDB",
        "colab_type": "code",
        "outputId": "7f8db559-5822-4fd4-84c6-762338e69e6d",
        "colab": {
          "base_uri": "https://localhost:8080/",
          "height": 142
        }
      },
      "cell_type": "code",
      "source": [
        "#mean of each group\n",
        "final_th3set.groupby('Border').mean()"
      ],
      "execution_count": 0,
      "outputs": [
        {
          "output_type": "execute_result",
          "data": {
            "text/html": [
              "<div>\n",
              "<style scoped>\n",
              "    .dataframe tbody tr th:only-of-type {\n",
              "        vertical-align: middle;\n",
              "    }\n",
              "\n",
              "    .dataframe tbody tr th {\n",
              "        vertical-align: top;\n",
              "    }\n",
              "\n",
              "    .dataframe thead th {\n",
              "        text-align: right;\n",
              "    }\n",
              "</style>\n",
              "<table border=\"1\" class=\"dataframe\">\n",
              "  <thead>\n",
              "    <tr style=\"text-align: right;\">\n",
              "      <th></th>\n",
              "      <th>Arrest_Number</th>\n",
              "      <th>Total_Population</th>\n",
              "      <th>Hispanic_Population</th>\n",
              "      <th>Percent_Hispanic</th>\n",
              "    </tr>\n",
              "    <tr>\n",
              "      <th>Border</th>\n",
              "      <th></th>\n",
              "      <th></th>\n",
              "      <th></th>\n",
              "      <th></th>\n",
              "    </tr>\n",
              "  </thead>\n",
              "  <tbody>\n",
              "    <tr>\n",
              "      <th>N</th>\n",
              "      <td>1322.8</td>\n",
              "      <td>5.587964e+06</td>\n",
              "      <td>7.237357e+05</td>\n",
              "      <td>12.604619</td>\n",
              "    </tr>\n",
              "    <tr>\n",
              "      <th>Y</th>\n",
              "      <td>6831.8</td>\n",
              "      <td>8.264568e+06</td>\n",
              "      <td>2.343374e+06</td>\n",
              "      <td>15.712459</td>\n",
              "    </tr>\n",
              "  </tbody>\n",
              "</table>\n",
              "</div>"
            ],
            "text/plain": [
              "        Arrest_Number  Total_Population  Hispanic_Population  Percent_Hispanic\n",
              "Border                                                                        \n",
              "N              1322.8      5.587964e+06         7.237357e+05         12.604619\n",
              "Y              6831.8      8.264568e+06         2.343374e+06         15.712459"
            ]
          },
          "metadata": {
            "tags": []
          },
          "execution_count": 6
        }
      ]
    },
    {
      "metadata": {
        "id": "NgmKBkakkAsG",
        "colab_type": "text"
      },
      "cell_type": "markdown",
      "source": [
        "Obviously, the border states had higher levels of Secure Communities arrests during this period both on average and overall. \n"
      ]
    },
    {
      "metadata": {
        "id": "gySMo7oVbJN3",
        "colab_type": "text"
      },
      "cell_type": "markdown",
      "source": [
        "### Analysis: Are Secure Communities Arrests and Hispanic Population Correlated?\n",
        "---\n",
        "To determine whether there is a correlation between the proportion of a state's population that is hispanic and the number of arrests through the Secure Communities program, I will first plot the data to see if there appears to be a linear relationship. "
      ]
    },
    {
      "metadata": {
        "id": "jpyGiSGly8RR",
        "colab_type": "code",
        "outputId": "00c17544-487e-4d08-d986-3f010ff06842",
        "colab": {
          "base_uri": "https://localhost:8080/",
          "height": 378
        }
      },
      "cell_type": "code",
      "source": [
        "import matplotlib.pyplot as plt\n",
        "plt.xlabel('% Hispanic Pop')\n",
        "plt.ylabel('Number of Arrests')\n",
        "plt.scatter(final_th3set.Percent_Hispanic, final_th3set.Arrest_Number)"
      ],
      "execution_count": 0,
      "outputs": [
        {
          "output_type": "execute_result",
          "data": {
            "text/plain": [
              "<matplotlib.collections.PathCollection at 0x7f684eda7eb8>"
            ]
          },
          "metadata": {
            "tags": []
          },
          "execution_count": 7
        },
        {
          "output_type": "display_data",
          "data": {
            "image/png": "[encoded data removed]",
            "text/plain": [
              "<Figure size 576x396 with 1 Axes>"
            ]
          },
          "metadata": {
            "tags": []
          }
        }
      ]
    },
    {
      "metadata": {
        "id": "4KFRiUPZbroL",
        "colab_type": "text"
      },
      "cell_type": "markdown",
      "source": [
        "Next, I will use scipy.stats.pearsonr to check the Pearson correlation coefficient and p-value for this data to see if there is indeed a correlation. "
      ]
    },
    {
      "metadata": {
        "id": "h7Ff-qL5k_rA",
        "colab_type": "code",
        "outputId": "b905cc96-b548-42bd-d37f-f9f279b94e44",
        "colab": {
          "base_uri": "https://localhost:8080/",
          "height": 34
        }
      },
      "cell_type": "code",
      "source": [
        "from scipy.stats import pearsonr\n",
        "data1 = final_th3set['Percent_Hispanic']\n",
        "data2 = final_th3set['Arrest_Number']\n",
        "pearsonr(data1, data2)"
      ],
      "execution_count": 0,
      "outputs": [
        {
          "output_type": "execute_result",
          "data": {
            "text/plain": [
              "(0.369919233703258, 0.008191259243219744)"
            ]
          },
          "metadata": {
            "tags": []
          },
          "execution_count": 8
        }
      ]
    },
    {
      "metadata": {
        "id": "VoDfuogsiFIC",
        "colab_type": "text"
      },
      "cell_type": "markdown",
      "source": [
        "I plan on expanding my sample of states by year (50 states x year) to make this analysis more robust."
      ]
    }
  ]
}
