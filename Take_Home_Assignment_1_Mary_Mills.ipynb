{
  "nbformat": 4,
  "nbformat_minor": 0,
  "metadata": {
    "colab": {
      "name": "Take Home Assignment 1: Mary Mills",
      "version": "0.3.2",
      "provenance": [],
      "collapsed_sections": [],
      "include_colab_link": true
    },
    "kernelspec": {
      "name": "python3",
      "display_name": "Python 3"
    }
  },
  "cells": [
    {
      "cell_type": "markdown",
      "metadata": {
        "id": "view-in-github",
        "colab_type": "text"
      },
      "source": [
        "<a href=\"https://colab.research.google.com/github/mgmills93/AEM_Spring_2019/blob/master/Take_Home_Assignment_1_Mary_Mills.ipynb\" target=\"_parent\"><img src=\"https://colab.research.google.com/assets/colab-badge.svg\" alt=\"Open In Colab\"/></a>"
      ]
    },
    {
      "metadata": {
        "id": "LTOlASswxCeM",
        "colab_type": "text"
      },
      "cell_type": "markdown",
      "source": [
        "THA1: Mary Mills\n",
        "---\n",
        "\n",
        "My research interests for our final project include immigration policy, trends in prison violence and recidivism, and human trafficking. I have found a few data sets that span these interest areas; I will likely pick the topic that I am able to find the most data on during my research.\n"
      ]
    },
    {
      "metadata": {
        "id": "beTsWT3kMl_x",
        "colab_type": "text"
      },
      "cell_type": "markdown",
      "source": [
        "### Dataset 1: Rivard Report ICE Detention Facilities Population and Facility Statistics\n",
        "\n",
        "---\n",
        "\n",
        "The dataset below I found on data.world, and is a list of all U.S. immigrant detention centers, with population figures and demographic breakdown. This data is from an ICE March 2018 report provided via a FOIA request, that was used in a July 2018 article published by the Rivard Report.\n",
        "\n",
        "I drew this data directly from data.world, linked here: https://data.world/rivardreport/ice-detention-facilities-population-and-facility-statistics\n",
        "\n",
        "This is one sheet of the .xslx file, but there are 12. One sheet is an index that defines each column header."
      ]
    },
    {
      "metadata": {
        "id": "2LsixZC42qbc",
        "colab_type": "code",
        "outputId": "d02bd44c-3540-4ece-beb8-18b5d2fc2736",
        "colab": {
          "base_uri": "https://localhost:8080/",
          "height": 1054
        }
      },
      "cell_type": "code",
      "source": [
        "import pandas as pd\n",
        "deten_data = pd.read_excel('https://query.data.world/s/7ubhic2g7ir5byjbotuwlivt4gizua', sheet_name=2, header=7)\n",
        "print(deten_data.sample(10))\n",
        "                       "
      ],
      "execution_count": 0,
      "outputs": [
        {
          "output_type": "stream",
          "text": [
            "        DETLOC                             Name  \\\n",
            "696    KROHOLD                  KROME HOLD ROOM   \n",
            "21     JENATLA      ALEXANDRIA STAGING FACILITY   \n",
            "363    DAVISSD    DAVISON COUNTY (SOUTH DAKOTA)   \n",
            "1591   WALSHND                WALSH COUNTY JAIL   \n",
            "1567   VALVETX  VAL VERDE CORRECTIONAL FACILITY   \n",
            "341    CULBETX                 CULBERSON COUNTY   \n",
            "261    MICHIRE       CHIPPEWA REGIONAL-KINCHLOE   \n",
            "800     BOPMAR                       MARION USP   \n",
            "6      ADAMSPA                ADAMS COUNTY JAIL   \n",
            "1235  Redacted                         Redacted   \n",
            "\n",
            "                             Address         City      County     State  \\\n",
            "696                 18201 SW 12TH ST        MIAMI        DADE        FL   \n",
            "21                 1511 ARNOLD DRIVE   ALEXANDRIA      COUNTY        LA   \n",
            "363         1015 SOUTH MILLER AVENUE     MITCHELL     DAVISON        SD   \n",
            "1591               638 COOPER AVENUE      GRAFTON       WALSH        ND   \n",
            "1567         253 FARM TO MARKET 2523      DEL RIO   VAL VERDE        TX   \n",
            "341                   301 LA CAVERNA     VAN HORN   CULBERSON        TX   \n",
            "261                      4269 W M 80    KINCHELOE      COUNTY        MI   \n",
            "800   RURAL RT. 5 LITTLE GRASSY ROAD       MARION  WILLIAMSON        IL   \n",
            "6                 45 MAJOR BELL LANE  GETTYSBURGH       ADAMS        PA   \n",
            "1235                        Redacted     Redacted    Redacted  Redacted   \n",
            "\n",
            "           Zip  Circuit  AOR Docket     ...     Male Level C Male Level D  \\\n",
            "696      33194       11  MIA    NaN     ...                0            0   \n",
            "21       71303        5  NOL    OAK     ...                0            0   \n",
            "363      57301        8  SPM    SPM     ...                0            0   \n",
            "1591     58237        8  SPM    SPM     ...                0            0   \n",
            "1567     78840        5  SNA    DLR     ...                0            0   \n",
            "341      79855        5  ELP    NaN     ...                0            0   \n",
            "261      49788        6  DET    DET     ...                0            0   \n",
            "800      62959        7  CHI    CHI     ...                0            0   \n",
            "6        17325        3  PHI    NaN     ...                0            0   \n",
            "1235  Redacted        5  ELP    ELP     ...                0            0   \n",
            "\n",
            "     Female Non-Crim  Female Crim  Male Non-Crim  Male Crim  Female Non-Crim   \\\n",
            "696                0            0              0          0                 0   \n",
            "21                 0            0             70        216                 0   \n",
            "363                0            0              0          0                 0   \n",
            "1591               0            0              0          0                 0   \n",
            "1567               0            0              0          1                 0   \n",
            "341                0            0              0          0                 0   \n",
            "261                0            0              0          0                 0   \n",
            "800                0            0              0          0                 0   \n",
            "6                  0            0              0          0                 0   \n",
            "1235               0            0              0          0                17   \n",
            "\n",
            "      Female Crim   Male Non-Crim   Male Crim   \n",
            "696              0               0           0  \n",
            "21               0               0           0  \n",
            "363              0               0           0  \n",
            "1591             0               0           0  \n",
            "1567             0               0           0  \n",
            "341              0               0           0  \n",
            "261              0               0           0  \n",
            "800              0               0           0  \n",
            "6                0               0           0  \n",
            "1235             0              31           0  \n",
            "\n",
            "[10 rows x 37 columns]\n"
          ],
          "name": "stdout"
        }
      ]
    },
    {
      "metadata": {
        "id": "cefCOB1qRNtd",
        "colab_type": "text"
      },
      "cell_type": "markdown",
      "source": [
        "### Dataset 2: Vera Institute Incarceration Trends\n",
        "\n",
        "---\n",
        "I found this dataset from the Vera Institute on GitHub. It shows jail and prison incarceration data at the county level, including overall prison population and population broken down by race and sex, and type of offense committed by inmates. \n",
        "\n",
        "This is a .csv file that I linked from Vera Institute's GitHub incarceration_trends repository: https://github.com/vera-institute/incarceration_trends\n"
      ]
    },
    {
      "metadata": {
        "id": "tkhwwG-QwEbg",
        "colab_type": "code",
        "outputId": "54ec7606-7e5a-400a-f12f-247519f19016",
        "colab": {
          "base_uri": "https://localhost:8080/",
          "height": 1054
        }
      },
      "cell_type": "code",
      "source": [
        "import pandas as pd\n",
        "prison_data = pd.read_csv(\"https://raw.githubusercontent.com/vera-institute/incarceration_trends/master/incarceration_trends.csv\")\n",
        "print(prison_data.sample(10))"
      ],
      "execution_count": 0,
      "outputs": [
        {
          "output_type": "stream",
          "text": [
            "            yfips  year   fips state          county_name  total_pop  \\\n",
            "73667   198829167  1988  29167    MO          Polk County      21199   \n",
            "103755  199641005  1996  41005    OR     Clackamas County     322376   \n",
            "128058  200048409  2000  48409    TX  San Patricio County      67333   \n",
            "137560  200851650  2008  51650    VA         Hampton city     138957   \n",
            "134423  197351089  1973  51089    VA         Henry County      54143   \n",
            "143209  197055007  1970  55007    WI      Bayfield County      11715   \n",
            "57684   198525019  1985  25019    MA     Nantucket County       5767   \n",
            "74035   198029183  1980  29183    MO   St. Charles County     145331   \n",
            "1177    197201051  1972   1051    AL        Elmore County      35347   \n",
            "130035  200348493  2003  48493    TX        Wilson County      35458   \n",
            "\n",
            "        total_pop_15to64  female_pop_15to64  male_pop_15to64  \\\n",
            "73667              13333               6738             6595   \n",
            "103755            215578             107964           107614   \n",
            "128058             43047              21235            21812   \n",
            "137560             96090              49646            46444   \n",
            "134423             34835              17696            17139   \n",
            "143209              6658               3296             3362   \n",
            "57684               3937               1959             1978   \n",
            "74035              96834              48745            48089   \n",
            "1177               21272              10520            10752   \n",
            "130035             23272              11565            11707   \n",
            "\n",
            "        asian_pop_15to64     ...       violent_crime  property_crime  \\\n",
            "73667                NaN     ...                 5.0           139.0   \n",
            "103755            5435.0     ...               645.0         15497.0   \n",
            "128058             382.0     ...               143.0          2012.0   \n",
            "137560            2563.0     ...               481.0          5273.0   \n",
            "134423               NaN     ...                 NaN             NaN   \n",
            "143209               NaN     ...                 NaN             NaN   \n",
            "57684                NaN     ...                31.0           593.0   \n",
            "74035                NaN     ...               427.0          4171.0   \n",
            "1177                 NaN     ...                 NaN             NaN   \n",
            "130035              98.0     ...                59.0           457.0   \n",
            "\n",
            "        murder_crime  rape_crime  robbery_crime agr_assault_crime  \\\n",
            "73667            0.0         0.0            0.0               5.0   \n",
            "103755           4.0        80.0          247.0             314.0   \n",
            "128058           0.0        15.0           13.0             115.0   \n",
            "137560           8.0        37.0          215.0             221.0   \n",
            "134423           NaN         NaN            NaN               NaN   \n",
            "143209           NaN         NaN            NaN               NaN   \n",
            "57684            0.0         1.0            0.0              30.0   \n",
            "74035            5.0        23.0           49.0             350.0   \n",
            "1177             NaN         NaN            NaN               NaN   \n",
            "130035           0.0         4.0            3.0              52.0   \n",
            "\n",
            "       burglary_crime larceny_crime  mv_theft_crime  arson_crime  \n",
            "73667            53.0          84.0             2.0          0.0  \n",
            "103755         2573.0       11057.0          1744.0        123.0  \n",
            "128058          457.0        1447.0           100.0          8.0  \n",
            "137560          788.0        4069.0           401.0         15.0  \n",
            "134423            NaN           NaN             NaN          NaN  \n",
            "143209            NaN           NaN             NaN          NaN  \n",
            "57684           122.0         422.0            48.0          1.0  \n",
            "74035          1289.0        2458.0           395.0         29.0  \n",
            "1177              NaN           NaN             NaN          NaN  \n",
            "130035          133.0         294.0            29.0          1.0  \n",
            "\n",
            "[10 rows x 79 columns]\n"
          ],
          "name": "stdout"
        }
      ]
    },
    {
      "metadata": {
        "id": "VCtqfIXPW8AN",
        "colab_type": "text"
      },
      "cell_type": "markdown",
      "source": [
        "### Dataset 3: Bureau of Justice Statistics Recidivism of State Prisoners\n",
        "---\n",
        "This dataset I found at the following link: https://www.bjs.gov/index.cfm?ty=dcdetail&iid=270 . From there, I copied and uploaded it to my own GitHub, which is where I have linked it from below. \n",
        "\n",
        "This is a .csv file from the Bureau of Justice Statistics, which shows the recidivisum rates of state prisoners based on the number of months since their last release. This is the most recent dataset, which followed inmates released in 2005 over a 9-year span, ending in 2014. "
      ]
    },
    {
      "metadata": {
        "id": "YeNJ0eGjx1uB",
        "colab_type": "code",
        "outputId": "6ca8db8f-cc56-440c-8c91-855e9f46b7e4",
        "colab": {
          "base_uri": "https://localhost:8080/",
          "height": 204
        }
      },
      "cell_type": "code",
      "source": [
        "import pandas as pd\n",
        "victim_data = pd.read_csv(\"https://raw.githubusercontent.com/mgmills93/aem-spring19/master/rprts05p0510f01_copy.csv\", header=13)\n",
        "print(victim_data.sample(10))"
      ],
      "execution_count": 0,
      "outputs": [
        {
          "output_type": "stream",
          "text": [
            "   Time to rearrest (in months)  All releases  Conviction  Return to prison\n",
            "6                             6        28.206       12.96             17.64\n",
            "29                           29        63.687       40.61             46.42\n",
            "12                           12        43.398       22.96             30.41\n",
            "42                           42        70.622       48.39             51.49\n",
            "43                           43        71.069       48.96             51.73\n",
            "21                           21        56.497       33.39             40.92\n",
            "57                           57        75.837       54.46             54.65\n",
            "44                           44        71.494       49.45             51.94\n",
            "22                           22        57.514       34.37             41.69\n",
            "31                           31        64.966       42.04             47.45\n"
          ],
          "name": "stdout"
        }
      ]
    }
  ]
}